{
 "cells": [
  {
   "cell_type": "markdown",
   "metadata": {},
   "source": [
    "# Logistic Regression\n",
    " \n",
    "\n",
    "- Approximation\n",
    "        f(w, b) = Wx + b\n",
    "        Y = h0(x) = 1/1+e^(-Wx+b)\n",
    "- Sigmoid function\n",
    "        s(x) = 1/1+e^-x\n",
    "\n",
    "- Cost function = Cross entropy (Logodds)\n",
    "\n",
    "we use again use the Gradient Descent we moving relative to find the minima to get Learning rate.\n",
    "we get update the learning rate\n",
    "\n",
    "- w = w - alpha .dw\n",
    "- b = b - alpha . db ----same like Linear Regression"
   ]
  },
  {
   "cell_type": "code",
   "execution_count": 19,
   "metadata": {},
   "outputs": [
    {
     "data": {
      "text/plain": [
       "'Accuracy for Logistic Regression 0.6666666666666666'"
      ]
     },
     "execution_count": 19,
     "metadata": {},
     "output_type": "execute_result"
    }
   ],
   "source": [
    "import numpy as np\n",
    "import matplotlib.pyplot as plt\n",
    "from sklearn.model_selection import train_test_split\n",
    "from sklearn import datasets\n",
    "\n",
    "from linear_m import LogisticRegression\n",
    "\n",
    "bc = datasets.load_breast_cancer()\n",
    "X, y = bc.data, bc.target\n",
    "\n",
    "X_train, X_val, y_train, y_val = train_test_split(X, y, stratify=y, test_size=0.2, random_state=4312)\n",
    "\n",
    "def accuracy(y_true, y_predict):\n",
    "    accuracy = np.sum(y_true == y_predict)/len(y_true)\n",
    "    return f\"Accuracy for Logistic Regression {accuracy}\"\n",
    "\n",
    "log_regressor = LogisticRegression(lr=0.000001)\n",
    "log_regressor.fit(X_train, y_train)\n",
    "prediction = log_regressor.predict(X_val)\n",
    "\n",
    "accuracy(y_val, prediction)"
   ]
  },
  {
   "cell_type": "code",
   "execution_count": null,
   "metadata": {},
   "outputs": [],
   "source": []
  }
 ],
 "metadata": {
  "kernelspec": {
   "display_name": "Python 3",
   "language": "python",
   "name": "python3"
  },
  "language_info": {
   "codemirror_mode": {
    "name": "ipython",
    "version": 3
   },
   "file_extension": ".py",
   "mimetype": "text/x-python",
   "name": "python",
   "nbconvert_exporter": "python",
   "pygments_lexer": "ipython3",
   "version": "3.11.3"
  }
 },
 "nbformat": 4,
 "nbformat_minor": 2
}
