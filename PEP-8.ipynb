{
 "cells": [
  {
   "attachments": {},
   "cell_type": "markdown",
   "metadata": {},
   "source": [
    "# PEP 8 - Python code style\n",
    "### Code Lay-out\n",
    "    * Indentation = \n",
    "    \n",
    "    use 4 spaces per indentaion.\n",
    "    limit a line with 79 character.\n",
    "    \n",
    "    correct:\n",
    "        a = long(var_1, var_2,\n",
    "                 var_3, var_4)\n",
    "        \n",
    "        def long(number, alpha, boolean,\n",
    "                 hexa, dex):\n",
    "            print(\"ok\")\n",
    "            \n",
    "    # if the char is longer and want to use\n",
    "        with open(\"/path/path/path/path/path/read\") as file1, \\\n",
    "             open(\"/path/path/path/path/path/read\") as file2:\n",
    "                file2.write(file1.read())\n",
    "    # When we have binary operator in line\n",
    "        a = (Name\n",
    "             + surname\n",
    "             + age\n",
    "             - experience\n",
    "             + reference)\n",
    "        \n",
    "    # White space while writing code - Immediately before a comma, semicolon, or colon\n",
    "    spam(ham[1], {egg: 2})"
   ]
  }
 ],
 "metadata": {
  "kernelspec": {
   "display_name": "Python 3 (ipykernel)",
   "language": "python",
   "name": "python3"
  },
  "language_info": {
   "codemirror_mode": {
    "name": "ipython",
    "version": 3
   },
   "file_extension": ".py",
   "mimetype": "text/x-python",
   "name": "python",
   "nbconvert_exporter": "python",
   "pygments_lexer": "ipython3",
   "version": "3.11.3"
  },
  "widgets": {
   "application/vnd.jupyter.widget-state+json": {
    "state": {},
    "version_major": 2,
    "version_minor": 0
   }
  }
 },
 "nbformat": 4,
 "nbformat_minor": 4
}
